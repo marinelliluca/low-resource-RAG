{
 "cells": [
  {
   "cell_type": "code",
   "execution_count": 1,
   "metadata": {},
   "outputs": [],
   "source": [
    "import numpy as np\n",
    "import glob\n",
    "import librosa\n",
    "from msclap import CLAP\n",
    "import os\n",
    "from tqdm.notebook import tqdm"
   ]
  },
  {
   "attachments": {},
   "cell_type": "markdown",
   "metadata": {},
   "source": [
    "Please cite:\n",
    "\n",
    "```\n",
    "@misc{CLAP2023,\n",
    "      title={Natural Language Supervision for General-Purpose Audio Representations}, \n",
    "      author={Benjamin Elizalde and Soham Deshmukh and Huaming Wang},\n",
    "      year={2023},\n",
    "      eprint={2309.05767},\n",
    "      archivePrefix={arXiv},\n",
    "      primaryClass={cs.SD},\n",
    "      url={https://arxiv.org/abs/2309.05767}\n",
    "}\n",
    "```"
   ]
  },
  {
   "cell_type": "code",
   "execution_count": null,
   "metadata": {},
   "outputs": [],
   "source": [
    "for audio_fn in tqdm(glob.glob(\"/homes/lm004/toys-critical-analysis/files/trimmed_audio/*.mp3\")):\n",
    "    \n",
    "    stimulus_id = os.path.basename(audio_fn).split(\".\")[0]\n",
    "\n",
    "    clap_model = CLAP(version = '2023', use_cuda=True)\n",
    "\n",
    "    # compute the audio embeddings from an audio file\n",
    "    audio_embeddings = clap_model.get_audio_embeddings([audio_fn], resample=True)\n",
    "\n",
    "    #np.save(open(f\"clap_2023/{stimulus_id}_{which}.npy\", 'wb'), audio_embeddings)\n",
    "    np.save(open(f\"/homes/lm004/toys-critical-analysis/files/clap_embeddings/{stimulus_id}.npy\", 'wb'), \n",
    "            audio_embeddings.detach().cpu().numpy().squeeze())"
   ]
  },
  {
   "cell_type": "code",
   "execution_count": null,
   "metadata": {},
   "outputs": [],
   "source": [
    "# gosh, how long is this gonna take"
   ]
  }
 ],
 "metadata": {
  "kernelspec": {
   "display_name": "Python 3",
   "language": "python",
   "name": "python3"
  },
  "language_info": {
   "codemirror_mode": {
    "name": "ipython",
    "version": 3
   },
   "file_extension": ".py",
   "mimetype": "text/x-python",
   "name": "python",
   "nbconvert_exporter": "python",
   "pygments_lexer": "ipython3",
   "version": "3.8.20"
  },
  "orig_nbformat": 4
 },
 "nbformat": 4,
 "nbformat_minor": 2
}
