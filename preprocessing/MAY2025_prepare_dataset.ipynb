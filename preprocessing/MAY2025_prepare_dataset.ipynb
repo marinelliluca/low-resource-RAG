{
 "cells": [
  {
   "cell_type": "code",
   "execution_count": 1,
   "metadata": {
    "collapsed": true,
    "pycharm": {
     "name": "#%%\n"
    }
   },
   "outputs": [],
   "source": [
    "import pandas as pd\n",
    "import sys, os\n",
    "from datetime import date\n",
    "import moviepy.editor as mpy\n",
    "import glob\n",
    "from tqdm.notebook import tqdm\n",
    "from contextlib import contextmanager"
   ]
  },
  {
   "cell_type": "code",
   "execution_count": 2,
   "metadata": {
    "pycharm": {
     "name": "#%%\n"
    }
   },
   "outputs": [],
   "source": [
    "@contextmanager\n",
    "def suppress_stdout():\n",
    "    with open(os.devnull, \"w\") as devnull:\n",
    "        old_stdout = sys.stdout\n",
    "        sys.stdout = devnull\n",
    "        try:\n",
    "            yield\n",
    "        finally:\n",
    "            sys.stdout = old_stdout"
   ]
  },
  {
   "cell_type": "markdown",
   "metadata": {
    "pycharm": {
     "name": "#%% md\n"
    }
   },
   "source": [
    "## Trim videos and save as mp3\n",
    "Let's trim the audio to remove the Smyths Toys audio logo."
   ]
  },
  {
   "cell_type": "code",
   "execution_count": null,
   "metadata": {
    "pycharm": {
     "name": "#%%\n"
    }
   },
   "outputs": [],
   "source": [
    "for video_fpath in tqdm(glob.glob(\"unseen_commercials/*.mp4\")):\n",
    "\n",
    "    stimulus_id = os.path.basename(video_fpath).split(\".\")[0]\n",
    "    audio_fpath = f\"files/trimmed_audio/{stimulus_id}.mp3\"\n",
    "\n",
    "    if not os.path.isfile(audio_fpath):\n",
    "        with suppress_stdout():\n",
    "            clip = mpy.VideoFileClip(video_fpath)\n",
    "\n",
    "            if clip.w < clip.h:\n",
    "                continue # skip vertical videos (for mobile)\n",
    "            if clip.duration < 15:\n",
    "                continue # skip short videos (we only downloaded videos shorter than 45 seconds anyway)\n",
    "\n",
    "            clip = clip.subclip(0, clip.duration-4.8) # trim last 4.8 seconds\n",
    "\n",
    "            if clip.audio is not None:\n",
    "                clip.audio.write_audiofile(audio_fpath, logger=None, codec='mp3')\n",
    "\n",
    "            clip.close()"
   ]
  },
  {
   "cell_type": "code",
   "execution_count": 26,
   "metadata": {
    "pycharm": {
     "name": "#%%\n"
    }
   },
   "outputs": [],
   "source": []
  }
 ],
 "metadata": {
  "kernelspec": {
   "display_name": "dataset_tools",
   "language": "python",
   "name": "python3"
  },
  "language_info": {
   "codemirror_mode": {
    "name": "ipython",
    "version": 3
   },
   "file_extension": ".py",
   "mimetype": "text/x-python",
   "name": "python",
   "nbconvert_exporter": "python",
   "pygments_lexer": "ipython3",
   "version": "3.12.9"
  }
 },
 "nbformat": 4,
 "nbformat_minor": 1
}
