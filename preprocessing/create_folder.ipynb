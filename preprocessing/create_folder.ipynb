{
 "cells": [
  {
   "cell_type": "code",
   "execution_count": 1,
   "metadata": {},
   "outputs": [],
   "source": [
    "import pandas as pd\n",
    "import os\n",
    "import shutil"
   ]
  },
  {
   "cell_type": "code",
   "execution_count": 2,
   "metadata": {},
   "outputs": [],
   "source": [
    "df = pd.read_csv(\"files/unseen_transcripts_final.csv\", index_col=0)"
   ]
  },
  {
   "cell_type": "code",
   "execution_count": 3,
   "metadata": {},
   "outputs": [],
   "source": [
    "data_path = \"~/Desktop/Proton Drive/My files/Drive/PhD/DATASET/all_commercials\"\n",
    "data_path_new = \"~/Desktop/repositories/dataset_tools_and_analysis/all_commercials_again\"\n",
    "\n",
    "for stimulus_id in df.index:\n",
    "    \n",
    "    if os.path.exists(os.path.join(data_path, f\"{stimulus_id}.mp4\")):\n",
    "        #copy the file to the new location\n",
    "        shutil.copy(os.path.join(data_path, f\"{stimulus_id}.mp4\"), \"unseen_commercials\")\n",
    "    elif os.path.exists(os.path.join(data_path_new, f\"{stimulus_id}.mp4\")):\n",
    "        shutil.copy(os.path.join(data_path_new, f\"{stimulus_id}.mp4\"), \"unseen_commercials\")"
   ]
  },
  {
   "cell_type": "code",
   "execution_count": null,
   "metadata": {},
   "outputs": [],
   "source": []
  }
 ],
 "metadata": {
  "kernelspec": {
   "display_name": "dataset_tools",
   "language": "python",
   "name": "python3"
  },
  "language_info": {
   "codemirror_mode": {
    "name": "ipython",
    "version": 3
   },
   "file_extension": ".py",
   "mimetype": "text/x-python",
   "name": "python",
   "nbconvert_exporter": "python",
   "pygments_lexer": "ipython3",
   "version": "3.12.9"
  }
 },
 "nbformat": 4,
 "nbformat_minor": 2
}
