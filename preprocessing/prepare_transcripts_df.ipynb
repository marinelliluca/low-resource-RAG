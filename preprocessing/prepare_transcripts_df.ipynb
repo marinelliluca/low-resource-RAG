{
 "cells": [
  {
   "cell_type": "code",
   "execution_count": 1,
   "metadata": {},
   "outputs": [],
   "source": [
    "import pandas as pd\n",
    "import os\n",
    "import glob \n",
    "\n",
    "import matplotlib.pyplot as plt\n",
    "import seaborn as sns"
   ]
  },
  {
   "cell_type": "code",
   "execution_count": 2,
   "metadata": {},
   "outputs": [],
   "source": [
    "complete_playlist_df = pd.read_pickle(\"files/complete_playlist_df.pkl\")\n",
    "complete_playlist_df.set_index(\"id\", inplace=True)\n",
    "transcripts_path = \"files/transcripts/*.txt\""
   ]
  },
  {
   "cell_type": "code",
   "execution_count": 3,
   "metadata": {},
   "outputs": [
    {
     "data": {
      "text/plain": [
       "2705"
      ]
     },
     "execution_count": 3,
     "metadata": {},
     "output_type": "execute_result"
    }
   ],
   "source": [
    "len(glob.glob(transcripts_path))"
   ]
  },
  {
   "cell_type": "code",
   "execution_count": 4,
   "metadata": {},
   "outputs": [],
   "source": [
    "transcripts_df = pd.DataFrame(columns=['stimulus_id', 'transcript'])\n",
    "transcript_ids = []\n",
    "transcripts = []\n",
    "rows = []\n",
    "# /import/c4dm-datasets-ext/toy_commercials/all_trimmed_commercials/ #old path\n",
    "for transcript_fn in glob.glob(transcripts_path):\n",
    "    transcript = None\n",
    "\n",
    "    stimulus_id = os.path.basename(transcript_fn).split('.')[0]\n",
    "\n",
    "    # load transcript_fn (txt file)\n",
    "    with open(transcript_fn, 'r') as f:\n",
    "        transcript = f.read().strip()\n",
    "\n",
    "    if transcript is None or transcript == '':\n",
    "        continue\n",
    "\n",
    "    rows.append({\n",
    "        'stimulus_id': stimulus_id,\n",
    "        'transcript': transcript\n",
    "    })"
   ]
  },
  {
   "cell_type": "code",
   "execution_count": 5,
   "metadata": {},
   "outputs": [],
   "source": [
    "transcripts_df = pd.DataFrame(rows)\n",
    "transcripts_df = transcripts_df.set_index('stimulus_id')"
   ]
  },
  {
   "cell_type": "code",
   "execution_count": null,
   "metadata": {},
   "outputs": [],
   "source": [
    "transcripts_df"
   ]
  },
  {
   "cell_type": "code",
   "execution_count": 7,
   "metadata": {},
   "outputs": [],
   "source": [
    "# merge with complete_playlist_df\n",
    "transcripts_df = transcripts_df.merge(complete_playlist_df, left_index=True, right_index=True, how='inner')"
   ]
  },
  {
   "cell_type": "code",
   "execution_count": null,
   "metadata": {},
   "outputs": [],
   "source": [
    "transcripts_df"
   ]
  },
  {
   "cell_type": "code",
   "execution_count": 9,
   "metadata": {},
   "outputs": [],
   "source": [
    "# remove all rows with a transcript shorter than 40 characters\n",
    "transcripts_df = transcripts_df[transcripts_df['transcript'].str.len() >= 40]\n",
    "# remove all commercials shorter than 15 seconds\n",
    "transcripts_df = transcripts_df[transcripts_df['duration'] >= 15]"
   ]
  },
  {
   "cell_type": "code",
   "execution_count": 10,
   "metadata": {},
   "outputs": [
    {
     "data": {
      "text/html": [
       "<div>\n",
       "<style scoped>\n",
       "    .dataframe tbody tr th:only-of-type {\n",
       "        vertical-align: middle;\n",
       "    }\n",
       "\n",
       "    .dataframe tbody tr th {\n",
       "        vertical-align: top;\n",
       "    }\n",
       "\n",
       "    .dataframe thead th {\n",
       "        text-align: right;\n",
       "    }\n",
       "</style>\n",
       "<table border=\"1\" class=\"dataframe\">\n",
       "  <thead>\n",
       "    <tr style=\"text-align: right;\">\n",
       "      <th></th>\n",
       "      <th>transcript</th>\n",
       "      <th>title</th>\n",
       "      <th>description</th>\n",
       "      <th>upload_date</th>\n",
       "      <th>duration</th>\n",
       "      <th>view_count</th>\n",
       "      <th>categories</th>\n",
       "      <th>tags</th>\n",
       "      <th>like_count</th>\n",
       "      <th>download</th>\n",
       "      <th>error_logs</th>\n",
       "    </tr>\n",
       "  </thead>\n",
       "  <tbody>\n",
       "    <tr>\n",
       "      <th>vSsTDtbsT8c</th>\n",
       "      <td>Get ready to prove it in battle with Beyblade ...</td>\n",
       "      <td>BeyBlade X - Smyths Toys</td>\n",
       "      <td>Get ready to prove in battel with Beyblade X w...</td>\n",
       "      <td>20250407</td>\n",
       "      <td>33</td>\n",
       "      <td>1921</td>\n",
       "      <td>[Entertainment]</td>\n",
       "      <td>[Smyths Toys, Toys (Industry), kids, smyths, t...</td>\n",
       "      <td>12</td>\n",
       "      <td>True</td>\n",
       "      <td></td>\n",
       "    </tr>\n",
       "    <tr>\n",
       "      <th>DBwBFd-R55M</th>\n",
       "      <td>Kids love nothing more than to play! Each wood...</td>\n",
       "      <td>Squirrel Play Toys at Smyths Toys</td>\n",
       "      <td>Squirrel Play toys are designed with care and ...</td>\n",
       "      <td>20201014</td>\n",
       "      <td>21</td>\n",
       "      <td>2835577</td>\n",
       "      <td>[Entertainment]</td>\n",
       "      <td>[Smyths Toys, Toys (Industry), kids, smyths, t...</td>\n",
       "      <td>301</td>\n",
       "      <td>True</td>\n",
       "      <td></td>\n",
       "    </tr>\n",
       "    <tr>\n",
       "      <th>nW6pzXuNCDs</th>\n",
       "      <td>Make a wish. It's the magical world of Sparkle...</td>\n",
       "      <td>Sparkle Girlz Dolls - Smyths Toys</td>\n",
       "      <td>ZURU Sparkle Girlz 45cm Princess Doll is perfe...</td>\n",
       "      <td>20220826</td>\n",
       "      <td>35</td>\n",
       "      <td>3423</td>\n",
       "      <td>[Entertainment]</td>\n",
       "      <td>[Smyths Toys, Toys (Industry), kids, smyths, t...</td>\n",
       "      <td>12</td>\n",
       "      <td>True</td>\n",
       "      <td></td>\n",
       "    </tr>\n",
       "    <tr>\n",
       "      <th>f8QKUkc8jnU</th>\n",
       "      <td>Join Miles' galactic adventures. Train with Mi...</td>\n",
       "      <td>Smyths Toys - Disney Miles from Tomorrow Exo-suit</td>\n",
       "      <td>Protect Disney’s Miles from Tomorrow with his ...</td>\n",
       "      <td>20160308</td>\n",
       "      <td>20</td>\n",
       "      <td>3213</td>\n",
       "      <td>[Entertainment]</td>\n",
       "      <td>[Smyths Toys, Smiths Toys, Toys (Industry), Di...</td>\n",
       "      <td>6</td>\n",
       "      <td>True</td>\n",
       "      <td></td>\n",
       "    </tr>\n",
       "    <tr>\n",
       "      <th>8kp_2Tu98Bc</th>\n",
       "      <td>They come out at night. They strike without mo...</td>\n",
       "      <td>Smyths Toys - Stretch Screamers</td>\n",
       "      <td>The only action figure that screams and squeal...</td>\n",
       "      <td>20131004</td>\n",
       "      <td>20</td>\n",
       "      <td>40482</td>\n",
       "      <td>[Entertainment]</td>\n",
       "      <td>[Smyths Toys, Smiths Toys, Toys (Industry)]</td>\n",
       "      <td>309</td>\n",
       "      <td>True</td>\n",
       "      <td>\u001b[0;31mERROR:\u001b[0m [youtube] 8kp_2Tu98Bc: Video...</td>\n",
       "    </tr>\n",
       "    <tr>\n",
       "      <th>...</th>\n",
       "      <td>...</td>\n",
       "      <td>...</td>\n",
       "      <td>...</td>\n",
       "      <td>...</td>\n",
       "      <td>...</td>\n",
       "      <td>...</td>\n",
       "      <td>...</td>\n",
       "      <td>...</td>\n",
       "      <td>...</td>\n",
       "      <td>...</td>\n",
       "      <td>...</td>\n",
       "    </tr>\n",
       "    <tr>\n",
       "      <th>MIe4tNjgEM0</th>\n",
       "      <td>Talking rocks, golden locks, glitter trees, fa...</td>\n",
       "      <td>Smyths Toys - Barbie Dreamtopia Sweetville Pri...</td>\n",
       "      <td>This Barbie princess doll brings the magic of ...</td>\n",
       "      <td>20170713</td>\n",
       "      <td>34</td>\n",
       "      <td>7536</td>\n",
       "      <td>[Entertainment]</td>\n",
       "      <td>[Smyths Toys, Toys, (Industry)kids, Barbie Dre...</td>\n",
       "      <td>41</td>\n",
       "      <td>True</td>\n",
       "      <td></td>\n",
       "    </tr>\n",
       "    <tr>\n",
       "      <th>kZLbrCPo_qI</th>\n",
       "      <td>From Karma's World, it's Singing Karma! Hangin...</td>\n",
       "      <td>Karma's World - Smyths Toys</td>\n",
       "      <td>Karma is a star!\\n\\nLife’s a music video for a...</td>\n",
       "      <td>20220722</td>\n",
       "      <td>24</td>\n",
       "      <td>4258049</td>\n",
       "      <td>[Entertainment]</td>\n",
       "      <td>[Smyths Toys, Toys (Industry), kids, smyths, t...</td>\n",
       "      <td>100</td>\n",
       "      <td>True</td>\n",
       "      <td></td>\n",
       "    </tr>\n",
       "    <tr>\n",
       "      <th>mmKOLGIO6A0</th>\n",
       "      <td>From Disney Pixar, Finding Dory. It's my frien...</td>\n",
       "      <td>Smyths Toys - Disney Pixar Finding Dory My Fri...</td>\n",
       "      <td>Join in the wild and crazy adventures with eve...</td>\n",
       "      <td>20160819</td>\n",
       "      <td>34</td>\n",
       "      <td>46732</td>\n",
       "      <td>[Gaming]</td>\n",
       "      <td>[Smyths Toys, Smiths Toys, Toys (Industry), Di...</td>\n",
       "      <td>91</td>\n",
       "      <td>True</td>\n",
       "      <td></td>\n",
       "    </tr>\n",
       "    <tr>\n",
       "      <th>_lZXpA6JiYo</th>\n",
       "      <td>This is the first time I've played this game. ...</td>\n",
       "      <td>LEGO 31096 Creator Twin-Rotor Helicopter - Smy...</td>\n",
       "      <td>Build and pilot awesome machines with this Twi...</td>\n",
       "      <td>20190604</td>\n",
       "      <td>39</td>\n",
       "      <td>10972</td>\n",
       "      <td>[Entertainment]</td>\n",
       "      <td>[Smyths Toys, Toys (Industry), kids, smyths, t...</td>\n",
       "      <td>72</td>\n",
       "      <td>True</td>\n",
       "      <td></td>\n",
       "    </tr>\n",
       "    <tr>\n",
       "      <th>Seal0htNm3Y</th>\n",
       "      <td>Pixel Bits! New Pixel Bits Studio! Get ready t...</td>\n",
       "      <td>Pixobitz Studio - Smyths Toys</td>\n",
       "      <td>Experience a new element of creativity with th...</td>\n",
       "      <td>20220928</td>\n",
       "      <td>26</td>\n",
       "      <td>4934</td>\n",
       "      <td>[Entertainment]</td>\n",
       "      <td>[Smyths Toys, Toys (Industry), kids, smyths, t...</td>\n",
       "      <td>8</td>\n",
       "      <td>True</td>\n",
       "      <td></td>\n",
       "    </tr>\n",
       "  </tbody>\n",
       "</table>\n",
       "<p>2637 rows × 11 columns</p>\n",
       "</div>"
      ],
      "text/plain": [
       "                                                    transcript  \\\n",
       "vSsTDtbsT8c  Get ready to prove it in battle with Beyblade ...   \n",
       "DBwBFd-R55M  Kids love nothing more than to play! Each wood...   \n",
       "nW6pzXuNCDs  Make a wish. It's the magical world of Sparkle...   \n",
       "f8QKUkc8jnU  Join Miles' galactic adventures. Train with Mi...   \n",
       "8kp_2Tu98Bc  They come out at night. They strike without mo...   \n",
       "...                                                        ...   \n",
       "MIe4tNjgEM0  Talking rocks, golden locks, glitter trees, fa...   \n",
       "kZLbrCPo_qI  From Karma's World, it's Singing Karma! Hangin...   \n",
       "mmKOLGIO6A0  From Disney Pixar, Finding Dory. It's my frien...   \n",
       "_lZXpA6JiYo  This is the first time I've played this game. ...   \n",
       "Seal0htNm3Y  Pixel Bits! New Pixel Bits Studio! Get ready t...   \n",
       "\n",
       "                                                         title  \\\n",
       "vSsTDtbsT8c                           BeyBlade X - Smyths Toys   \n",
       "DBwBFd-R55M                  Squirrel Play Toys at Smyths Toys   \n",
       "nW6pzXuNCDs                  Sparkle Girlz Dolls - Smyths Toys   \n",
       "f8QKUkc8jnU  Smyths Toys - Disney Miles from Tomorrow Exo-suit   \n",
       "8kp_2Tu98Bc                    Smyths Toys - Stretch Screamers   \n",
       "...                                                        ...   \n",
       "MIe4tNjgEM0  Smyths Toys - Barbie Dreamtopia Sweetville Pri...   \n",
       "kZLbrCPo_qI                        Karma's World - Smyths Toys   \n",
       "mmKOLGIO6A0  Smyths Toys - Disney Pixar Finding Dory My Fri...   \n",
       "_lZXpA6JiYo  LEGO 31096 Creator Twin-Rotor Helicopter - Smy...   \n",
       "Seal0htNm3Y                      Pixobitz Studio - Smyths Toys   \n",
       "\n",
       "                                                   description upload_date  \\\n",
       "vSsTDtbsT8c  Get ready to prove in battel with Beyblade X w...    20250407   \n",
       "DBwBFd-R55M  Squirrel Play toys are designed with care and ...    20201014   \n",
       "nW6pzXuNCDs  ZURU Sparkle Girlz 45cm Princess Doll is perfe...    20220826   \n",
       "f8QKUkc8jnU  Protect Disney’s Miles from Tomorrow with his ...    20160308   \n",
       "8kp_2Tu98Bc  The only action figure that screams and squeal...    20131004   \n",
       "...                                                        ...         ...   \n",
       "MIe4tNjgEM0  This Barbie princess doll brings the magic of ...    20170713   \n",
       "kZLbrCPo_qI  Karma is a star!\\n\\nLife’s a music video for a...    20220722   \n",
       "mmKOLGIO6A0  Join in the wild and crazy adventures with eve...    20160819   \n",
       "_lZXpA6JiYo  Build and pilot awesome machines with this Twi...    20190604   \n",
       "Seal0htNm3Y  Experience a new element of creativity with th...    20220928   \n",
       "\n",
       "             duration  view_count       categories  \\\n",
       "vSsTDtbsT8c        33        1921  [Entertainment]   \n",
       "DBwBFd-R55M        21     2835577  [Entertainment]   \n",
       "nW6pzXuNCDs        35        3423  [Entertainment]   \n",
       "f8QKUkc8jnU        20        3213  [Entertainment]   \n",
       "8kp_2Tu98Bc        20       40482  [Entertainment]   \n",
       "...               ...         ...              ...   \n",
       "MIe4tNjgEM0        34        7536  [Entertainment]   \n",
       "kZLbrCPo_qI        24     4258049  [Entertainment]   \n",
       "mmKOLGIO6A0        34       46732         [Gaming]   \n",
       "_lZXpA6JiYo        39       10972  [Entertainment]   \n",
       "Seal0htNm3Y        26        4934  [Entertainment]   \n",
       "\n",
       "                                                          tags like_count  \\\n",
       "vSsTDtbsT8c  [Smyths Toys, Toys (Industry), kids, smyths, t...         12   \n",
       "DBwBFd-R55M  [Smyths Toys, Toys (Industry), kids, smyths, t...        301   \n",
       "nW6pzXuNCDs  [Smyths Toys, Toys (Industry), kids, smyths, t...         12   \n",
       "f8QKUkc8jnU  [Smyths Toys, Smiths Toys, Toys (Industry), Di...          6   \n",
       "8kp_2Tu98Bc        [Smyths Toys, Smiths Toys, Toys (Industry)]        309   \n",
       "...                                                        ...        ...   \n",
       "MIe4tNjgEM0  [Smyths Toys, Toys, (Industry)kids, Barbie Dre...         41   \n",
       "kZLbrCPo_qI  [Smyths Toys, Toys (Industry), kids, smyths, t...        100   \n",
       "mmKOLGIO6A0  [Smyths Toys, Smiths Toys, Toys (Industry), Di...         91   \n",
       "_lZXpA6JiYo  [Smyths Toys, Toys (Industry), kids, smyths, t...         72   \n",
       "Seal0htNm3Y  [Smyths Toys, Toys (Industry), kids, smyths, t...          8   \n",
       "\n",
       "             download                                         error_logs  \n",
       "vSsTDtbsT8c      True                                                     \n",
       "DBwBFd-R55M      True                                                     \n",
       "nW6pzXuNCDs      True                                                     \n",
       "f8QKUkc8jnU      True                                                     \n",
       "8kp_2Tu98Bc      True  \u001b[0;31mERROR:\u001b[0m [youtube] 8kp_2Tu98Bc: Video...  \n",
       "...               ...                                                ...  \n",
       "MIe4tNjgEM0      True                                                     \n",
       "kZLbrCPo_qI      True                                                     \n",
       "mmKOLGIO6A0      True                                                     \n",
       "_lZXpA6JiYo      True                                                     \n",
       "Seal0htNm3Y      True                                                     \n",
       "\n",
       "[2637 rows x 11 columns]"
      ]
     },
     "execution_count": 10,
     "metadata": {},
     "output_type": "execute_result"
    }
   ],
   "source": [
    "transcripts_df"
   ]
  },
  {
   "cell_type": "code",
   "execution_count": 14,
   "metadata": {},
   "outputs": [],
   "source": [
    "transcripts_df.to_csv(\"files/unseen_transcripts_final.csv\")"
   ]
  },
  {
   "cell_type": "code",
   "execution_count": null,
   "metadata": {},
   "outputs": [
    {
     "data": {
      "image/png": "[encoded data removed]",
      "text/plain": [
       "<Figure size 1200x800 with 1 Axes>"
      ]
     },
     "metadata": {},
     "output_type": "display_data"
    }
   ],
   "source": [
    "upload_years = transcripts_df[\"upload_date\"].rename(\"Upload year\").sort_values().astype(\"str\").str[:4]\n",
    "\n",
    "plt.figure(figsize=(12,8))\n",
    "ax = sns.histplot(x=upload_years, discrete=True)\n",
    "for p in ax.patches:\n",
    "    annotation = p.get_height() if p.get_height()>10 else \"\"\n",
    "    ax.annotate(f'\\n{annotation}', (p.get_x()+0.4, p.get_height()), ha='center', va='top', color='white', size=12)\n",
    "#plt.savefig(\"upload_years.pdf\", bbox_inches=\"tight\")\n",
    "plt.show()"
   ]
  },
  {
   "cell_type": "code",
   "execution_count": 13,
   "metadata": {},
   "outputs": [
    {
     "data": {
      "text/plain": [
       "(2012, 2025)"
      ]
     },
     "execution_count": 13,
     "metadata": {},
     "output_type": "execute_result"
    }
   ],
   "source": [
    "min(upload_dates), max(upload_dates)"
   ]
  },
  {
   "cell_type": "code",
   "execution_count": null,
   "metadata": {},
   "outputs": [],
   "source": []
  }
 ],
 "metadata": {
  "kernelspec": {
   "display_name": "Python 3",
   "language": "python",
   "name": "python3"
  },
  "language_info": {
   "codemirror_mode": {
    "name": "ipython",
    "version": 3
   },
   "file_extension": ".py",
   "mimetype": "text/x-python",
   "name": "python",
   "nbconvert_exporter": "python",
   "pygments_lexer": "ipython3",
   "version": "3.10.12"
  }
 },
 "nbformat": 4,
 "nbformat_minor": 2
}
